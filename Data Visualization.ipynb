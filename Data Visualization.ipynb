{
 "cells": [
  {
   "cell_type": "code",
   "execution_count": 1,
   "metadata": {},
   "outputs": [],
   "source": [
    "import pandas as pd\n",
    "import matplotlib.pyplot as plt"
   ]
  },
  {
   "cell_type": "code",
   "execution_count": 2,
   "metadata": {},
   "outputs": [],
   "source": [
    "data = pd.read_html('https://en.wikipedia.org/wiki/Programming_languages_used_in_most_popular_websites')"
   ]
  },
  {
   "cell_type": "code",
   "execution_count": 3,
   "metadata": {},
   "outputs": [
    {
     "data": {
      "text/plain": [
       "[         Websites  Popularity(unique visitors per month)[1]  \\\n",
       " 0       Google[2]                                1600000000   \n",
       " 1        Facebook                                1100000000   \n",
       " 2         YouTube                                1100000000   \n",
       " 3           Yahoo                                 750000000   \n",
       " 4          Amazon                                 500000000   \n",
       " 5       Wikipedia                                 475000000   \n",
       " 6         Twitter                                 290000000   \n",
       " 7            Bing                                 285000000   \n",
       " 8            eBay                                 285000000   \n",
       " 9             MSN                                 280000000   \n",
       " 10       LinkedIn                                 260000000   \n",
       " 11      Pinterest                                 250000000   \n",
       " 12  WordPress.com                                 240000000   \n",
       " \n",
       "     Front-end(Client-side)                              Back-end(Server-side)  \\\n",
       " 0   JavaScript, TypeScript                  C, C++, Go,[3] Java, Python, Node   \n",
       " 1         JavaScript, Flow  Hack, PHP (HHVM), Python, C++, Java, Erlang, D...   \n",
       " 2               JavaScript                   C, C++, Python, Java,[11] Go[12]   \n",
       " 3               JavaScript                                                PHP   \n",
       " 4               JavaScript                                Java, C++, Perl[15]   \n",
       " 5               JavaScript                                                PHP   \n",
       " 6               JavaScript                     C++, Java[18], Scala[19], Ruby   \n",
       " 7               JavaScript                                            C++, C#   \n",
       " 8               JavaScript                Java,[21] JavaScript,[22] Scala[23]   \n",
       " 9               JavaScript                                                 C#   \n",
       " 10              JavaScript                        Java, JavaScript,[24] Scala   \n",
       " 11              JavaScript                        Python (Django),[26] Erlang   \n",
       " 12              JavaScript                                                PHP   \n",
       " \n",
       "                                       Database  \\\n",
       " 0                      Bigtable,[4] MariaDB[5]   \n",
       " 1      MariaDB, MySQL,[9] HBase, Cassandra[10]   \n",
       " 2             Vitess, BigTable, MariaDB[5][13]   \n",
       " 3   PostgreSQL, HBase, Cassandra, MongoDB,[14]   \n",
       " 4              PostgreSQL, RDS, RDS Aurora[16]   \n",
       " 5                                  MariaDB[17]   \n",
       " 6                                    MySQL[20]   \n",
       " 7              Microsoft SQL Server, Cosmos DB   \n",
       " 8                              Oracle Database   \n",
       " 9                         Microsoft SQL Server   \n",
       " 10                               Voldemort[25]   \n",
       " 11                           MySQL, Redis [27]   \n",
       " 12                                 MariaDB[28]   \n",
       " \n",
       "                                                 Notes  \n",
       " 0            The most used search engine in the world  \n",
       " 1             The most visited social networking site  \n",
       " 2                 The most visited video sharing site  \n",
       " 3                                                 NaN  \n",
       " 4                      Popular Internet shopping site  \n",
       " 5   \"MediaWiki\" is programmed in PHP; free online ...  \n",
       " 6                             Popular social network.  \n",
       " 7                       Search engine from Microsoft.  \n",
       " 8                               Online auction house.  \n",
       " 9   An email client, for simple use. Previously kn...  \n",
       " 10              World's largest professional network.  \n",
       " 11                           Search engine for ideas.  \n",
       " 12                          Website manager software.  ,\n",
       "          Websites   C#    C  C++    D Erlang   Go Hack Java JavaScript Perl  \\\n",
       " 0          Google   No  Yes  Yes   No     No  Yes   No  Yes         No   No   \n",
       " 1         YouTube   No  Yes  Yes   No     No  Yes   No  Yes         No   No   \n",
       " 2        Facebook   No   No  Yes  Yes    Yes  Yes  Yes  Yes         No   No   \n",
       " 3           Yahoo   No  Yes  Yes   No     No  Yes   No  Yes        Yes  Yes   \n",
       " 4          Amazon   No   No  Yes   No     No   No   No  Yes         No  Yes   \n",
       " 5       Wikipedia   No   No   No   No     No   No   No   No         No   No   \n",
       " 6         Twitter   No   No  Yes   No     No   No   No  Yes         No   No   \n",
       " 7            Bing  Yes   No  Yes   No     No   No   No   No         No   No   \n",
       " 8            eBay   No   No   No   No     No   No   No  Yes        Yes   No   \n",
       " 9             MSN  Yes   No   No   No     No   No   No   No         No   No   \n",
       " 10       LinkedIn   No   No   No   No     No   No   No  Yes        Yes   No   \n",
       " 11      Pinterest   No   No   No   No    Yes   No   No   No         No   No   \n",
       " 12  WordPress.com   No   No   No   No     No   No   No   No         No   No   \n",
       " \n",
       "     PHP Python Ruby Scala  Xhp  \n",
       " 0    No    Yes   No    No   No  \n",
       " 1    No    Yes   No    No   No  \n",
       " 2   Yes    Yes   No    No  Yes  \n",
       " 3   Yes    Yes  Yes   Yes   No  \n",
       " 4    No     No   No    No   No  \n",
       " 5   Yes     No   No    No   No  \n",
       " 6    No     No  Yes   Yes   No  \n",
       " 7    No     No   No    No   No  \n",
       " 8    No     No   No   Yes   No  \n",
       " 9    No     No   No    No   No  \n",
       " 10   No     No   No   Yes   No  \n",
       " 11   No    Yes   No    No   No  \n",
       " 12  Yes     No   No    No   No  ]"
      ]
     },
     "execution_count": 3,
     "metadata": {},
     "output_type": "execute_result"
    }
   ],
   "source": [
    "data"
   ]
  },
  {
   "cell_type": "code",
   "execution_count": 4,
   "metadata": {},
   "outputs": [],
   "source": [
    "df = data[0]"
   ]
  },
  {
   "cell_type": "code",
   "execution_count": 5,
   "metadata": {},
   "outputs": [
    {
     "data": {
      "text/html": [
       "<div>\n",
       "<style scoped>\n",
       "    .dataframe tbody tr th:only-of-type {\n",
       "        vertical-align: middle;\n",
       "    }\n",
       "\n",
       "    .dataframe tbody tr th {\n",
       "        vertical-align: top;\n",
       "    }\n",
       "\n",
       "    .dataframe thead th {\n",
       "        text-align: right;\n",
       "    }\n",
       "</style>\n",
       "<table border=\"1\" class=\"dataframe\">\n",
       "  <thead>\n",
       "    <tr style=\"text-align: right;\">\n",
       "      <th></th>\n",
       "      <th>Websites</th>\n",
       "      <th>Popularity(unique visitors per month)[1]</th>\n",
       "      <th>Front-end(Client-side)</th>\n",
       "      <th>Back-end(Server-side)</th>\n",
       "      <th>Database</th>\n",
       "      <th>Notes</th>\n",
       "    </tr>\n",
       "  </thead>\n",
       "  <tbody>\n",
       "    <tr>\n",
       "      <th>0</th>\n",
       "      <td>Google[2]</td>\n",
       "      <td>1600000000</td>\n",
       "      <td>JavaScript, TypeScript</td>\n",
       "      <td>C, C++, Go,[3] Java, Python, Node</td>\n",
       "      <td>Bigtable,[4] MariaDB[5]</td>\n",
       "      <td>The most used search engine in the world</td>\n",
       "    </tr>\n",
       "    <tr>\n",
       "      <th>1</th>\n",
       "      <td>Facebook</td>\n",
       "      <td>1100000000</td>\n",
       "      <td>JavaScript, Flow</td>\n",
       "      <td>Hack, PHP (HHVM), Python, C++, Java, Erlang, D...</td>\n",
       "      <td>MariaDB, MySQL,[9] HBase, Cassandra[10]</td>\n",
       "      <td>The most visited social networking site</td>\n",
       "    </tr>\n",
       "    <tr>\n",
       "      <th>2</th>\n",
       "      <td>YouTube</td>\n",
       "      <td>1100000000</td>\n",
       "      <td>JavaScript</td>\n",
       "      <td>C, C++, Python, Java,[11] Go[12]</td>\n",
       "      <td>Vitess, BigTable, MariaDB[5][13]</td>\n",
       "      <td>The most visited video sharing site</td>\n",
       "    </tr>\n",
       "    <tr>\n",
       "      <th>3</th>\n",
       "      <td>Yahoo</td>\n",
       "      <td>750000000</td>\n",
       "      <td>JavaScript</td>\n",
       "      <td>PHP</td>\n",
       "      <td>PostgreSQL, HBase, Cassandra, MongoDB,[14]</td>\n",
       "      <td>NaN</td>\n",
       "    </tr>\n",
       "    <tr>\n",
       "      <th>4</th>\n",
       "      <td>Amazon</td>\n",
       "      <td>500000000</td>\n",
       "      <td>JavaScript</td>\n",
       "      <td>Java, C++, Perl[15]</td>\n",
       "      <td>PostgreSQL, RDS, RDS Aurora[16]</td>\n",
       "      <td>Popular Internet shopping site</td>\n",
       "    </tr>\n",
       "    <tr>\n",
       "      <th>5</th>\n",
       "      <td>Wikipedia</td>\n",
       "      <td>475000000</td>\n",
       "      <td>JavaScript</td>\n",
       "      <td>PHP</td>\n",
       "      <td>MariaDB[17]</td>\n",
       "      <td>\"MediaWiki\" is programmed in PHP; free online ...</td>\n",
       "    </tr>\n",
       "    <tr>\n",
       "      <th>6</th>\n",
       "      <td>Twitter</td>\n",
       "      <td>290000000</td>\n",
       "      <td>JavaScript</td>\n",
       "      <td>C++, Java[18], Scala[19], Ruby</td>\n",
       "      <td>MySQL[20]</td>\n",
       "      <td>Popular social network.</td>\n",
       "    </tr>\n",
       "    <tr>\n",
       "      <th>7</th>\n",
       "      <td>Bing</td>\n",
       "      <td>285000000</td>\n",
       "      <td>JavaScript</td>\n",
       "      <td>C++, C#</td>\n",
       "      <td>Microsoft SQL Server, Cosmos DB</td>\n",
       "      <td>Search engine from Microsoft.</td>\n",
       "    </tr>\n",
       "    <tr>\n",
       "      <th>8</th>\n",
       "      <td>eBay</td>\n",
       "      <td>285000000</td>\n",
       "      <td>JavaScript</td>\n",
       "      <td>Java,[21] JavaScript,[22] Scala[23]</td>\n",
       "      <td>Oracle Database</td>\n",
       "      <td>Online auction house.</td>\n",
       "    </tr>\n",
       "    <tr>\n",
       "      <th>9</th>\n",
       "      <td>MSN</td>\n",
       "      <td>280000000</td>\n",
       "      <td>JavaScript</td>\n",
       "      <td>C#</td>\n",
       "      <td>Microsoft SQL Server</td>\n",
       "      <td>An email client, for simple use. Previously kn...</td>\n",
       "    </tr>\n",
       "    <tr>\n",
       "      <th>10</th>\n",
       "      <td>LinkedIn</td>\n",
       "      <td>260000000</td>\n",
       "      <td>JavaScript</td>\n",
       "      <td>Java, JavaScript,[24] Scala</td>\n",
       "      <td>Voldemort[25]</td>\n",
       "      <td>World's largest professional network.</td>\n",
       "    </tr>\n",
       "    <tr>\n",
       "      <th>11</th>\n",
       "      <td>Pinterest</td>\n",
       "      <td>250000000</td>\n",
       "      <td>JavaScript</td>\n",
       "      <td>Python (Django),[26] Erlang</td>\n",
       "      <td>MySQL, Redis [27]</td>\n",
       "      <td>Search engine for ideas.</td>\n",
       "    </tr>\n",
       "    <tr>\n",
       "      <th>12</th>\n",
       "      <td>WordPress.com</td>\n",
       "      <td>240000000</td>\n",
       "      <td>JavaScript</td>\n",
       "      <td>PHP</td>\n",
       "      <td>MariaDB[28]</td>\n",
       "      <td>Website manager software.</td>\n",
       "    </tr>\n",
       "  </tbody>\n",
       "</table>\n",
       "</div>"
      ],
      "text/plain": [
       "         Websites  Popularity(unique visitors per month)[1]  \\\n",
       "0       Google[2]                                1600000000   \n",
       "1        Facebook                                1100000000   \n",
       "2         YouTube                                1100000000   \n",
       "3           Yahoo                                 750000000   \n",
       "4          Amazon                                 500000000   \n",
       "5       Wikipedia                                 475000000   \n",
       "6         Twitter                                 290000000   \n",
       "7            Bing                                 285000000   \n",
       "8            eBay                                 285000000   \n",
       "9             MSN                                 280000000   \n",
       "10       LinkedIn                                 260000000   \n",
       "11      Pinterest                                 250000000   \n",
       "12  WordPress.com                                 240000000   \n",
       "\n",
       "    Front-end(Client-side)                              Back-end(Server-side)  \\\n",
       "0   JavaScript, TypeScript                  C, C++, Go,[3] Java, Python, Node   \n",
       "1         JavaScript, Flow  Hack, PHP (HHVM), Python, C++, Java, Erlang, D...   \n",
       "2               JavaScript                   C, C++, Python, Java,[11] Go[12]   \n",
       "3               JavaScript                                                PHP   \n",
       "4               JavaScript                                Java, C++, Perl[15]   \n",
       "5               JavaScript                                                PHP   \n",
       "6               JavaScript                     C++, Java[18], Scala[19], Ruby   \n",
       "7               JavaScript                                            C++, C#   \n",
       "8               JavaScript                Java,[21] JavaScript,[22] Scala[23]   \n",
       "9               JavaScript                                                 C#   \n",
       "10              JavaScript                        Java, JavaScript,[24] Scala   \n",
       "11              JavaScript                        Python (Django),[26] Erlang   \n",
       "12              JavaScript                                                PHP   \n",
       "\n",
       "                                      Database  \\\n",
       "0                      Bigtable,[4] MariaDB[5]   \n",
       "1      MariaDB, MySQL,[9] HBase, Cassandra[10]   \n",
       "2             Vitess, BigTable, MariaDB[5][13]   \n",
       "3   PostgreSQL, HBase, Cassandra, MongoDB,[14]   \n",
       "4              PostgreSQL, RDS, RDS Aurora[16]   \n",
       "5                                  MariaDB[17]   \n",
       "6                                    MySQL[20]   \n",
       "7              Microsoft SQL Server, Cosmos DB   \n",
       "8                              Oracle Database   \n",
       "9                         Microsoft SQL Server   \n",
       "10                               Voldemort[25]   \n",
       "11                           MySQL, Redis [27]   \n",
       "12                                 MariaDB[28]   \n",
       "\n",
       "                                                Notes  \n",
       "0            The most used search engine in the world  \n",
       "1             The most visited social networking site  \n",
       "2                 The most visited video sharing site  \n",
       "3                                                 NaN  \n",
       "4                      Popular Internet shopping site  \n",
       "5   \"MediaWiki\" is programmed in PHP; free online ...  \n",
       "6                             Popular social network.  \n",
       "7                       Search engine from Microsoft.  \n",
       "8                               Online auction house.  \n",
       "9   An email client, for simple use. Previously kn...  \n",
       "10              World's largest professional network.  \n",
       "11                           Search engine for ideas.  \n",
       "12                          Website manager software.  "
      ]
     },
     "execution_count": 5,
     "metadata": {},
     "output_type": "execute_result"
    }
   ],
   "source": [
    "df"
   ]
  },
  {
   "cell_type": "code",
   "execution_count": 6,
   "metadata": {},
   "outputs": [
    {
     "data": {
      "image/png": "[encoded data removed]",
      "text/plain": [
       "<Figure size 432x288 with 1 Axes>"
      ]
     },
     "metadata": {},
     "output_type": "display_data"
    }
   ],
   "source": [
    "websites = df['Websites']\n",
    "unique_visitors_per_month = df['Popularity(unique visitors per month)[1]']\n",
    "exp = [0.25,0.25,0.25,0,0,0,0,0,0,0,0,0,0,]\n",
    "plt.pie(unique_visitors_per_month, labels = websites, shadow = True ,radius= 2, autopct = '%2.1f%%', \n",
    "        explode = exp)\n",
    "plt.show()"
   ]
  },
  {
   "cell_type": "markdown",
   "metadata": {},
   "source": [
    "Conclusion:\n",
    "\n",
    "1. The most site in no of unique visitors is Google\n",
    "\n",
    "2. The most second two sites in no of unique visitors are Facebook & YouTube.\n",
    "\n",
    "3. JavaScript is the most wanted Programming Language in these tech companies.\n",
    "\n",
    "4. The most database management system in these companies is MariaDB."
   ]
  },
  {
   "cell_type": "code",
   "execution_count": 7,
   "metadata": {},
   "outputs": [
    {
     "data": {
      "text/plain": [
       "Websites                                    object\n",
       "Popularity(unique visitors per month)[1]     int64\n",
       "Front-end(Client-side)                      object\n",
       "Back-end(Server-side)                       object\n",
       "Database                                    object\n",
       "Notes                                       object\n",
       "dtype: object"
      ]
     },
     "execution_count": 7,
     "metadata": {},
     "output_type": "execute_result"
    }
   ],
   "source": [
    "df.dtypes"
   ]
  },
  {
   "cell_type": "code",
   "execution_count": 8,
   "metadata": {},
   "outputs": [],
   "source": [
    "df = df.rename(columns ={'Popularity(unique visitors per month)[1]': 'Popularity'})"
   ]
  },
  {
   "cell_type": "code",
   "execution_count": 22,
   "metadata": {},
   "outputs": [],
   "source": [
    "import psycopg2 as pg2"
   ]
  },
  {
   "cell_type": "code",
   "execution_count": 23,
   "metadata": {},
   "outputs": [],
   "source": [
    "conn = pg2.connect(host=\"localhost\", port=5434, dbname=\"programming\", user=\"postgres\", password=\"22362001\")"
   ]
  },
  {
   "cell_type": "code",
   "execution_count": 24,
   "metadata": {},
   "outputs": [
    {
     "ename": "DatabaseError",
     "evalue": "Execution failed on sql 'SELECT name FROM sqlite_master WHERE type='table' AND name=?;': relation \"sqlite_master\" does not exist\nLINE 1: SELECT name FROM sqlite_master WHERE type='table' AND name=?...\n                         ^\n",
     "output_type": "error",
     "traceback": [
      "\u001b[1;31m---------------------------------------------------------------------------\u001b[0m",
      "\u001b[1;31mUndefinedTable\u001b[0m                            Traceback (most recent call last)",
      "\u001b[1;32mc:\\users\\hinar\\appdata\\local\\programs\\python\\python37-32\\lib\\site-packages\\pandas\\io\\sql.py\u001b[0m in \u001b[0;36mexecute\u001b[1;34m(self, *args, **kwargs)\u001b[0m\n\u001b[0;32m   1680\u001b[0m         \u001b[1;32mtry\u001b[0m\u001b[1;33m:\u001b[0m\u001b[1;33m\u001b[0m\u001b[1;33m\u001b[0m\u001b[0m\n\u001b[1;32m-> 1681\u001b[1;33m             \u001b[0mcur\u001b[0m\u001b[1;33m.\u001b[0m\u001b[0mexecute\u001b[0m\u001b[1;33m(\u001b[0m\u001b[1;33m*\u001b[0m\u001b[0margs\u001b[0m\u001b[1;33m,\u001b[0m \u001b[1;33m**\u001b[0m\u001b[0mkwargs\u001b[0m\u001b[1;33m)\u001b[0m\u001b[1;33m\u001b[0m\u001b[1;33m\u001b[0m\u001b[0m\n\u001b[0m\u001b[0;32m   1682\u001b[0m             \u001b[1;32mreturn\u001b[0m \u001b[0mcur\u001b[0m\u001b[1;33m\u001b[0m\u001b[1;33m\u001b[0m\u001b[0m\n",
      "\u001b[1;31mUndefinedTable\u001b[0m: relation \"sqlite_master\" does not exist\nLINE 1: SELECT name FROM sqlite_master WHERE type='table' AND name=?...\n                         ^\n",
      "\nThe above exception was the direct cause of the following exception:\n",
      "\u001b[1;31mDatabaseError\u001b[0m                             Traceback (most recent call last)",
      "\u001b[1;32m<ipython-input-24-1df61894be1a>\u001b[0m in \u001b[0;36m<module>\u001b[1;34m\u001b[0m\n\u001b[1;32m----> 1\u001b[1;33m \u001b[0mdf\u001b[0m\u001b[1;33m.\u001b[0m\u001b[0mto_sql\u001b[0m\u001b[1;33m(\u001b[0m\u001b[1;34m'populary'\u001b[0m\u001b[1;33m,\u001b[0m \u001b[0mcon\u001b[0m\u001b[1;33m,\u001b[0m \u001b[0mif_exists\u001b[0m\u001b[1;33m=\u001b[0m\u001b[1;34m'append'\u001b[0m\u001b[1;33m,\u001b[0m \u001b[0mindex\u001b[0m\u001b[1;33m=\u001b[0m\u001b[1;32mFalse\u001b[0m\u001b[1;33m)\u001b[0m\u001b[1;33m\u001b[0m\u001b[1;33m\u001b[0m\u001b[0m\n\u001b[0m",
      "\u001b[1;32mc:\\users\\hinar\\appdata\\local\\programs\\python\\python37-32\\lib\\site-packages\\pandas\\core\\generic.py\u001b[0m in \u001b[0;36mto_sql\u001b[1;34m(self, name, con, schema, if_exists, index, index_label, chunksize, dtype, method)\u001b[0m\n\u001b[0;32m   2610\u001b[0m             \u001b[0mchunksize\u001b[0m\u001b[1;33m=\u001b[0m\u001b[0mchunksize\u001b[0m\u001b[1;33m,\u001b[0m\u001b[1;33m\u001b[0m\u001b[1;33m\u001b[0m\u001b[0m\n\u001b[0;32m   2611\u001b[0m             \u001b[0mdtype\u001b[0m\u001b[1;33m=\u001b[0m\u001b[0mdtype\u001b[0m\u001b[1;33m,\u001b[0m\u001b[1;33m\u001b[0m\u001b[1;33m\u001b[0m\u001b[0m\n\u001b[1;32m-> 2612\u001b[1;33m             \u001b[0mmethod\u001b[0m\u001b[1;33m=\u001b[0m\u001b[0mmethod\u001b[0m\u001b[1;33m,\u001b[0m\u001b[1;33m\u001b[0m\u001b[1;33m\u001b[0m\u001b[0m\n\u001b[0m\u001b[0;32m   2613\u001b[0m         )\n\u001b[0;32m   2614\u001b[0m \u001b[1;33m\u001b[0m\u001b[0m\n",
      "\u001b[1;32mc:\\users\\hinar\\appdata\\local\\programs\\python\\python37-32\\lib\\site-packages\\pandas\\io\\sql.py\u001b[0m in \u001b[0;36mto_sql\u001b[1;34m(frame, name, con, schema, if_exists, index, index_label, chunksize, dtype, method)\u001b[0m\n\u001b[0;32m    596\u001b[0m         \u001b[0mchunksize\u001b[0m\u001b[1;33m=\u001b[0m\u001b[0mchunksize\u001b[0m\u001b[1;33m,\u001b[0m\u001b[1;33m\u001b[0m\u001b[1;33m\u001b[0m\u001b[0m\n\u001b[0;32m    597\u001b[0m         \u001b[0mdtype\u001b[0m\u001b[1;33m=\u001b[0m\u001b[0mdtype\u001b[0m\u001b[1;33m,\u001b[0m\u001b[1;33m\u001b[0m\u001b[1;33m\u001b[0m\u001b[0m\n\u001b[1;32m--> 598\u001b[1;33m         \u001b[0mmethod\u001b[0m\u001b[1;33m=\u001b[0m\u001b[0mmethod\u001b[0m\u001b[1;33m,\u001b[0m\u001b[1;33m\u001b[0m\u001b[1;33m\u001b[0m\u001b[0m\n\u001b[0m\u001b[0;32m    599\u001b[0m     )\n\u001b[0;32m    600\u001b[0m \u001b[1;33m\u001b[0m\u001b[0m\n",
      "\u001b[1;32mc:\\users\\hinar\\appdata\\local\\programs\\python\\python37-32\\lib\\site-packages\\pandas\\io\\sql.py\u001b[0m in \u001b[0;36mto_sql\u001b[1;34m(self, frame, name, if_exists, index, index_label, schema, chunksize, dtype, method)\u001b[0m\n\u001b[0;32m   1825\u001b[0m             \u001b[0mdtype\u001b[0m\u001b[1;33m=\u001b[0m\u001b[0mdtype\u001b[0m\u001b[1;33m,\u001b[0m\u001b[1;33m\u001b[0m\u001b[1;33m\u001b[0m\u001b[0m\n\u001b[0;32m   1826\u001b[0m         )\n\u001b[1;32m-> 1827\u001b[1;33m         \u001b[0mtable\u001b[0m\u001b[1;33m.\u001b[0m\u001b[0mcreate\u001b[0m\u001b[1;33m(\u001b[0m\u001b[1;33m)\u001b[0m\u001b[1;33m\u001b[0m\u001b[1;33m\u001b[0m\u001b[0m\n\u001b[0m\u001b[0;32m   1828\u001b[0m         \u001b[0mtable\u001b[0m\u001b[1;33m.\u001b[0m\u001b[0minsert\u001b[0m\u001b[1;33m(\u001b[0m\u001b[0mchunksize\u001b[0m\u001b[1;33m,\u001b[0m \u001b[0mmethod\u001b[0m\u001b[1;33m)\u001b[0m\u001b[1;33m\u001b[0m\u001b[1;33m\u001b[0m\u001b[0m\n\u001b[0;32m   1829\u001b[0m \u001b[1;33m\u001b[0m\u001b[0m\n",
      "\u001b[1;32mc:\\users\\hinar\\appdata\\local\\programs\\python\\python37-32\\lib\\site-packages\\pandas\\io\\sql.py\u001b[0m in \u001b[0;36mcreate\u001b[1;34m(self)\u001b[0m\n\u001b[0;32m    719\u001b[0m \u001b[1;33m\u001b[0m\u001b[0m\n\u001b[0;32m    720\u001b[0m     \u001b[1;32mdef\u001b[0m \u001b[0mcreate\u001b[0m\u001b[1;33m(\u001b[0m\u001b[0mself\u001b[0m\u001b[1;33m)\u001b[0m\u001b[1;33m:\u001b[0m\u001b[1;33m\u001b[0m\u001b[1;33m\u001b[0m\u001b[0m\n\u001b[1;32m--> 721\u001b[1;33m         \u001b[1;32mif\u001b[0m \u001b[0mself\u001b[0m\u001b[1;33m.\u001b[0m\u001b[0mexists\u001b[0m\u001b[1;33m(\u001b[0m\u001b[1;33m)\u001b[0m\u001b[1;33m:\u001b[0m\u001b[1;33m\u001b[0m\u001b[1;33m\u001b[0m\u001b[0m\n\u001b[0m\u001b[0;32m    722\u001b[0m             \u001b[1;32mif\u001b[0m \u001b[0mself\u001b[0m\u001b[1;33m.\u001b[0m\u001b[0mif_exists\u001b[0m \u001b[1;33m==\u001b[0m \u001b[1;34m\"fail\"\u001b[0m\u001b[1;33m:\u001b[0m\u001b[1;33m\u001b[0m\u001b[1;33m\u001b[0m\u001b[0m\n\u001b[0;32m    723\u001b[0m                 \u001b[1;32mraise\u001b[0m \u001b[0mValueError\u001b[0m\u001b[1;33m(\u001b[0m\u001b[1;34mf\"Table '{self.name}' already exists.\"\u001b[0m\u001b[1;33m)\u001b[0m\u001b[1;33m\u001b[0m\u001b[1;33m\u001b[0m\u001b[0m\n",
      "\u001b[1;32mc:\\users\\hinar\\appdata\\local\\programs\\python\\python37-32\\lib\\site-packages\\pandas\\io\\sql.py\u001b[0m in \u001b[0;36mexists\u001b[1;34m(self)\u001b[0m\n\u001b[0;32m    706\u001b[0m \u001b[1;33m\u001b[0m\u001b[0m\n\u001b[0;32m    707\u001b[0m     \u001b[1;32mdef\u001b[0m \u001b[0mexists\u001b[0m\u001b[1;33m(\u001b[0m\u001b[0mself\u001b[0m\u001b[1;33m)\u001b[0m\u001b[1;33m:\u001b[0m\u001b[1;33m\u001b[0m\u001b[1;33m\u001b[0m\u001b[0m\n\u001b[1;32m--> 708\u001b[1;33m         \u001b[1;32mreturn\u001b[0m \u001b[0mself\u001b[0m\u001b[1;33m.\u001b[0m\u001b[0mpd_sql\u001b[0m\u001b[1;33m.\u001b[0m\u001b[0mhas_table\u001b[0m\u001b[1;33m(\u001b[0m\u001b[0mself\u001b[0m\u001b[1;33m.\u001b[0m\u001b[0mname\u001b[0m\u001b[1;33m,\u001b[0m \u001b[0mself\u001b[0m\u001b[1;33m.\u001b[0m\u001b[0mschema\u001b[0m\u001b[1;33m)\u001b[0m\u001b[1;33m\u001b[0m\u001b[1;33m\u001b[0m\u001b[0m\n\u001b[0m\u001b[0;32m    709\u001b[0m \u001b[1;33m\u001b[0m\u001b[0m\n\u001b[0;32m    710\u001b[0m     \u001b[1;32mdef\u001b[0m \u001b[0msql_schema\u001b[0m\u001b[1;33m(\u001b[0m\u001b[0mself\u001b[0m\u001b[1;33m)\u001b[0m\u001b[1;33m:\u001b[0m\u001b[1;33m\u001b[0m\u001b[1;33m\u001b[0m\u001b[0m\n",
      "\u001b[1;32mc:\\users\\hinar\\appdata\\local\\programs\\python\\python37-32\\lib\\site-packages\\pandas\\io\\sql.py\u001b[0m in \u001b[0;36mhas_table\u001b[1;34m(self, name, schema)\u001b[0m\n\u001b[0;32m   1836\u001b[0m         \u001b[0mquery\u001b[0m \u001b[1;33m=\u001b[0m \u001b[1;34mf\"SELECT name FROM sqlite_master WHERE type='table' AND name={wld};\"\u001b[0m\u001b[1;33m\u001b[0m\u001b[1;33m\u001b[0m\u001b[0m\n\u001b[0;32m   1837\u001b[0m \u001b[1;33m\u001b[0m\u001b[0m\n\u001b[1;32m-> 1838\u001b[1;33m         \u001b[1;32mreturn\u001b[0m \u001b[0mlen\u001b[0m\u001b[1;33m(\u001b[0m\u001b[0mself\u001b[0m\u001b[1;33m.\u001b[0m\u001b[0mexecute\u001b[0m\u001b[1;33m(\u001b[0m\u001b[0mquery\u001b[0m\u001b[1;33m,\u001b[0m \u001b[1;33m[\u001b[0m\u001b[0mname\u001b[0m\u001b[1;33m]\u001b[0m\u001b[1;33m)\u001b[0m\u001b[1;33m.\u001b[0m\u001b[0mfetchall\u001b[0m\u001b[1;33m(\u001b[0m\u001b[1;33m)\u001b[0m\u001b[1;33m)\u001b[0m \u001b[1;33m>\u001b[0m \u001b[1;36m0\u001b[0m\u001b[1;33m\u001b[0m\u001b[1;33m\u001b[0m\u001b[0m\n\u001b[0m\u001b[0;32m   1839\u001b[0m \u001b[1;33m\u001b[0m\u001b[0m\n\u001b[0;32m   1840\u001b[0m     \u001b[1;32mdef\u001b[0m \u001b[0mget_table\u001b[0m\u001b[1;33m(\u001b[0m\u001b[0mself\u001b[0m\u001b[1;33m,\u001b[0m \u001b[0mtable_name\u001b[0m\u001b[1;33m,\u001b[0m \u001b[0mschema\u001b[0m\u001b[1;33m=\u001b[0m\u001b[1;32mNone\u001b[0m\u001b[1;33m)\u001b[0m\u001b[1;33m:\u001b[0m\u001b[1;33m\u001b[0m\u001b[1;33m\u001b[0m\u001b[0m\n",
      "\u001b[1;32mc:\\users\\hinar\\appdata\\local\\programs\\python\\python37-32\\lib\\site-packages\\pandas\\io\\sql.py\u001b[0m in \u001b[0;36mexecute\u001b[1;34m(self, *args, **kwargs)\u001b[0m\n\u001b[0;32m   1691\u001b[0m \u001b[1;33m\u001b[0m\u001b[0m\n\u001b[0;32m   1692\u001b[0m             \u001b[0mex\u001b[0m \u001b[1;33m=\u001b[0m \u001b[0mDatabaseError\u001b[0m\u001b[1;33m(\u001b[0m\u001b[1;34mf\"Execution failed on sql '{args[0]}': {exc}\"\u001b[0m\u001b[1;33m)\u001b[0m\u001b[1;33m\u001b[0m\u001b[1;33m\u001b[0m\u001b[0m\n\u001b[1;32m-> 1693\u001b[1;33m             \u001b[1;32mraise\u001b[0m \u001b[0mex\u001b[0m \u001b[1;32mfrom\u001b[0m \u001b[0mexc\u001b[0m\u001b[1;33m\u001b[0m\u001b[1;33m\u001b[0m\u001b[0m\n\u001b[0m\u001b[0;32m   1694\u001b[0m \u001b[1;33m\u001b[0m\u001b[0m\n\u001b[0;32m   1695\u001b[0m     \u001b[1;33m@\u001b[0m\u001b[0mstaticmethod\u001b[0m\u001b[1;33m\u001b[0m\u001b[1;33m\u001b[0m\u001b[0m\n",
      "\u001b[1;31mDatabaseError\u001b[0m: Execution failed on sql 'SELECT name FROM sqlite_master WHERE type='table' AND name=?;': relation \"sqlite_master\" does not exist\nLINE 1: SELECT name FROM sqlite_master WHERE type='table' AND name=?...\n                         ^\n"
     ]
    }
   ],
   "source": [
    "df.to_sql('populary', conn, if_exists='append', index=False)"
   ]
  },
  {
   "cell_type": "code",
   "execution_count": null,
   "metadata": {},
   "outputs": [],
   "source": []
  }
 ],
 "metadata": {
  "kernelspec": {
   "display_name": "Python 3",
   "language": "python",
   "name": "python3"
  },
  "language_info": {
   "codemirror_mode": {
    "name": "ipython",
    "version": 3
   },
   "file_extension": ".py",
   "mimetype": "text/x-python",
   "name": "python",
   "nbconvert_exporter": "python",
   "pygments_lexer": "ipython3",
   "version": "3.7.4"
  }
 },
 "nbformat": 4,
 "nbformat_minor": 4
}
